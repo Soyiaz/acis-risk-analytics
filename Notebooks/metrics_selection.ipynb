{
 "cells": [
  {
   "cell_type": "markdown",
   "id": "4f6e8cab",
   "metadata": {},
   "source": [
    "1. Claim Frequency:\n",
    "\n",
    "Definition: The proportion of policies that have at least one claim.\n",
    "Calculation:\n",
    "Claim Frequency = (Number of policies with at least one claim) / (Total number of policies)\n",
    "\n",
    "2. Claim Severity:\n",
    "\n",
    "Definition: The average amount of a claim, given that a claim occurred.\n",
    "Calculation:\n",
    "Claim Severity = (Total amount of claims) / (Number of claims)\n",
    "\n",
    "3. Margin:\n",
    "\n",
    "Definition: The profit margin calculated as the difference between total premiums and total claims.\n",
    "Calculation:\n",
    "Margin = TotalPremium - TotalClaims\n",
    "These metrics will be used to validate or reject the following null hypotheses:\n",
    "\n",
    "H₀: There are no risk differences across provinces.\n",
    "H₀: There are no risk differences between zip codes.\n",
    "H₀: There are no significant margin differences between zip codes.\n",
    "H₀: There are no significant risk differences between Women and Men."
   ]
  },
  {
   "cell_type": "markdown",
   "id": "f19de770",
   "metadata": {},
   "source": [
    "On data segmentation \n",
    "\n",
    "1. Data Segmentation:\n",
    "\n",
    "Define Group A (Control Group) and Group B (Test Group) based on the features being tested.\n",
    "Ensure that the groups are statistically equivalent on key attributes aside from the feature being tested.\n",
    "\n",
    "2. Statistical Testing:\n",
    "\n",
    "Conduct appropriate statistical tests:\n",
    "Use chi-squared tests for categorical data (e.g., provinces, zip codes).\n",
    "Use t-tests or z-tests for numerical data (e.g., claim severity, margins).\n",
    "Analyze p-values to determine if the null hypotheses can be rejected.\n",
    "\n",
    "3. Analyze Results:\n",
    "\n",
    "Interpret the outcomes of the statistical tests.\n",
    "Document findings and discuss their implications within the context of risk drivers.\n",
    "\n",
    "4. Business Recommendations:\n",
    "\n",
    "For each rejected hypothesis, provide a clear interpretation and recommendation.\n",
    "Discuss how these findings could influence the segmentation strategy and pricing models."
   ]
  }
 ],
 "metadata": {
  "language_info": {
   "name": "python"
  }
 },
 "nbformat": 4,
 "nbformat_minor": 5
}

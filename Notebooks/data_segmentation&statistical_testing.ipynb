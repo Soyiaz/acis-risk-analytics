{
 "cells": [
  {
   "cell_type": "code",
   "execution_count": 1,
   "id": "13e2086f",
   "metadata": {},
   "outputs": [
    {
     "name": "stderr",
     "output_type": "stream",
     "text": [
      "C:\\Users\\HP\\AppData\\Local\\Temp\\ipykernel_17692\\3744290036.py:5: DtypeWarning: Columns (32,37) have mixed types. Specify dtype option on import or set low_memory=False.\n",
      "  data = pd.read_csv(file_path, delimiter='|')\n"
     ]
    },
    {
     "name": "stdout",
     "output_type": "stream",
     "text": [
      "   UnderwrittenCoverID  PolicyID     TransactionMonth  IsVATRegistered  \\\n",
      "0               145249     12827  2015-03-01 00:00:00             True   \n",
      "1               145249     12827  2015-05-01 00:00:00             True   \n",
      "2               145249     12827  2015-07-01 00:00:00             True   \n",
      "3               145255     12827  2015-05-01 00:00:00             True   \n",
      "4               145255     12827  2015-07-01 00:00:00             True   \n",
      "\n",
      "  Citizenship          LegalType Title Language                 Bank  \\\n",
      "0              Close Corporation    Mr  English  First National Bank   \n",
      "1              Close Corporation    Mr  English  First National Bank   \n",
      "2              Close Corporation    Mr  English  First National Bank   \n",
      "3              Close Corporation    Mr  English  First National Bank   \n",
      "4              Close Corporation    Mr  English  First National Bank   \n",
      "\n",
      "       AccountType  ...                    ExcessSelected CoverCategory  \\\n",
      "0  Current account  ...             Mobility - Windscreen    Windscreen   \n",
      "1  Current account  ...             Mobility - Windscreen    Windscreen   \n",
      "2  Current account  ...             Mobility - Windscreen    Windscreen   \n",
      "3  Current account  ...  Mobility - Metered Taxis - R2000    Own damage   \n",
      "4  Current account  ...  Mobility - Metered Taxis - R2000    Own damage   \n",
      "\n",
      "    CoverType            CoverGroup              Section  \\\n",
      "0  Windscreen  Comprehensive - Taxi  Motor Comprehensive   \n",
      "1  Windscreen  Comprehensive - Taxi  Motor Comprehensive   \n",
      "2  Windscreen  Comprehensive - Taxi  Motor Comprehensive   \n",
      "3  Own Damage  Comprehensive - Taxi  Motor Comprehensive   \n",
      "4  Own Damage  Comprehensive - Taxi  Motor Comprehensive   \n",
      "\n",
      "                           Product StatutoryClass StatutoryRiskType  \\\n",
      "0  Mobility Metered Taxis: Monthly     Commercial     IFRS Constant   \n",
      "1  Mobility Metered Taxis: Monthly     Commercial     IFRS Constant   \n",
      "2  Mobility Metered Taxis: Monthly     Commercial     IFRS Constant   \n",
      "3  Mobility Metered Taxis: Monthly     Commercial     IFRS Constant   \n",
      "4  Mobility Metered Taxis: Monthly     Commercial     IFRS Constant   \n",
      "\n",
      "   TotalPremium TotalClaims  \n",
      "0     21.929825         0.0  \n",
      "1     21.929825         0.0  \n",
      "2      0.000000         0.0  \n",
      "3    512.848070         0.0  \n",
      "4      0.000000         0.0  \n",
      "\n",
      "[5 rows x 52 columns]\n"
     ]
    }
   ],
   "source": [
    "import pandas as pd\n",
    "\n",
    "# Load the data\n",
    "file_path = '../data/MachineLearningRating_v3.txt'  \n",
    "data = pd.read_csv(file_path, delimiter='|')  \n",
    "\n",
    "print(data.head())"
   ]
  },
  {
   "cell_type": "code",
   "execution_count": 2,
   "id": "5ae1025b",
   "metadata": {},
   "outputs": [
    {
     "name": "stdout",
     "output_type": "stream",
     "text": [
      "['UnderwrittenCoverID', 'PolicyID', 'TransactionMonth', 'IsVATRegistered', 'Citizenship', 'LegalType', 'Title', 'Language', 'Bank', 'AccountType', 'MaritalStatus', 'Gender', 'Country', 'Province', 'PostalCode', 'MainCrestaZone', 'SubCrestaZone', 'ItemType', 'mmcode', 'VehicleType', 'RegistrationYear', 'make', 'Model', 'Cylinders', 'cubiccapacity', 'kilowatts', 'bodytype', 'NumberOfDoors', 'VehicleIntroDate', 'CustomValueEstimate', 'AlarmImmobiliser', 'TrackingDevice', 'CapitalOutstanding', 'NewVehicle', 'WrittenOff', 'Rebuilt', 'Converted', 'CrossBorder', 'NumberOfVehiclesInFleet', 'SumInsured', 'TermFrequency', 'CalculatedPremiumPerTerm', 'ExcessSelected', 'CoverCategory', 'CoverType', 'CoverGroup', 'Section', 'Product', 'StatutoryClass', 'StatutoryRiskType', 'TotalPremium', 'TotalClaims']\n"
     ]
    }
   ],
   "source": [
    "print(data.columns.tolist())"
   ]
  },
  {
   "cell_type": "code",
   "execution_count": null,
   "id": "629acfaa",
   "metadata": {},
   "outputs": [
    {
     "ename": "",
     "evalue": "",
     "output_type": "error",
     "traceback": [
      "\u001b[1;31mFailed to start the Kernel. \n",
      "\u001b[1;31mUnable to start Kernel 'Python 3.12.4' due to a timeout waiting for the ports to get used. \n",
      "\u001b[1;31mView Jupyter <a href='command:jupyter.viewOutput'>log</a> for further details."
     ]
    }
   ],
   "source": [
    "# Get the two most common provinces\n",
    "top_provinces = data['Province'].value_counts().index[:2]\n",
    "\n",
    "group_prov_1 = data[data['Province'] == top_provinces[0]]\n",
    "group_prov_2 = data[data['Province'] == top_provinces[1]]"
   ]
  },
  {
   "cell_type": "code",
   "execution_count": null,
   "id": "cef373c4",
   "metadata": {},
   "outputs": [
    {
     "ename": "",
     "evalue": "",
     "output_type": "error",
     "traceback": [
      "\u001b[1;31mFailed to start the Kernel. \n",
      "\u001b[1;31mUnable to start Kernel 'Python 3.12.4' due to a timeout waiting for the ports to get used. \n",
      "\u001b[1;31mView Jupyter <a href='command:jupyter.viewOutput'>log</a> for further details."
     ]
    }
   ],
   "source": [
    "# Get top 2 zip codes with the most records\n",
    "top_postal_codes = data['PostalCode'].value_counts().index[:2]\n",
    "\n",
    "group_zip_1 = data[data['PostalCode'] == top_postal_codes[0]]\n",
    "group_zip_2 = data[data['PostalCode'] == top_postal_codes[1]]"
   ]
  },
  {
   "cell_type": "code",
   "execution_count": null,
   "id": "5624bce6",
   "metadata": {},
   "outputs": [
    {
     "ename": "",
     "evalue": "",
     "output_type": "error",
     "traceback": [
      "\u001b[1;31mFailed to start the Kernel. \n",
      "\u001b[1;31mUnable to start Kernel 'Python 3.12.4' due to a timeout waiting for the ports to get used. \n",
      "\u001b[1;31mView Jupyter <a href='command:jupyter.viewOutput'>log</a> for further details."
     ]
    }
   ],
   "source": [
    "group_female = data[data['Gender'].str.lower() == 'female']\n",
    "group_male = data[data['Gender'].str.lower() == 'male']"
   ]
  },
  {
   "cell_type": "code",
   "execution_count": null,
   "id": "15d25c67",
   "metadata": {},
   "outputs": [
    {
     "ename": "",
     "evalue": "",
     "output_type": "error",
     "traceback": [
      "\u001b[1;31mFailed to start the Kernel. \n",
      "\u001b[1;31mUnable to start Kernel 'Python 3.12.4' due to a timeout waiting for the ports to get used. \n",
      "\u001b[1;31mView Jupyter <a href='command:jupyter.viewOutput'>log</a> for further details."
     ]
    }
   ],
   "source": [
    "from scipy.stats import chi2_contingency\n",
    "\n",
    "# Step 1: Create the binary HasClaim column\n",
    "data['HasClaim'] = data['TotalClaims'] > 0\n",
    "\n",
    "# Step 2: Get the top 2 provinces\n",
    "top_provinces = data['Province'].value_counts().index[:2]\n",
    "prov1 = top_provinces[0]\n",
    "prov2 = top_provinces[1]\n",
    "\n",
    "# Step 3: Subset data\n",
    "group_prov1 = data[data['Province'] == prov1]\n",
    "group_prov2 = data[data['Province'] == prov2]\n",
    "\n",
    "# Step 4: Build a contingency table\n",
    "contingency = [\n",
    "    [\n",
    "        group_prov1['HasClaim'].sum(),                      # number of claims in prov1\n",
    "        len(group_prov1) - group_prov1['HasClaim'].sum()    # no-claims in prov1\n",
    "    ],\n",
    "    [\n",
    "        group_prov2['HasClaim'].sum(),                      \n",
    "        len(group_prov2) - group_prov2['HasClaim'].sum()\n",
    "    ]\n",
    "]\n",
    "\n",
    "# Step 5: Perform chi-squared test\n",
    "chi2, p, dof, expected = chi2_contingency(contingency)\n",
    "\n",
    "print(f\"Chi-squared: {chi2:.2f}\")\n",
    "print(f\"p-value: {p:.4f}\")"
   ]
  },
  {
   "cell_type": "code",
   "execution_count": 7,
   "id": "b7853a1f",
   "metadata": {},
   "outputs": [
    {
     "name": "stdout",
     "output_type": "stream",
     "text": [
      "T-statistic: -2.17\n",
      "p-value: 0.0306\n"
     ]
    }
   ],
   "source": [
    "from scipy.stats import ttest_ind\n",
    "\n",
    "# Step 1: Filter for policies that had claims\n",
    "claims_data = data[data['TotalClaims'] > 0]\n",
    "\n",
    "# Step 2: Get claim values by province\n",
    "claims_prov1 = claims_data[claims_data['Province'] == prov1]['TotalClaims']\n",
    "claims_prov2 = claims_data[claims_data['Province'] == prov2]['TotalClaims']\n",
    "\n",
    "# Step 3: Perform independent t-test\n",
    "t_stat, p_value = ttest_ind(claims_prov1, claims_prov2, equal_var=False)  # Welch's t-test\n",
    "\n",
    "print(f\"T-statistic: {t_stat:.2f}\")\n",
    "print(f\"p-value: {p_value:.4f}\")"
   ]
  },
  {
   "cell_type": "code",
   "execution_count": 8,
   "id": "1cfb1bc3",
   "metadata": {},
   "outputs": [
    {
     "name": "stdout",
     "output_type": "stream",
     "text": [
      "Chi-squared: 3.60\n",
      "p-value: 0.0579\n"
     ]
    }
   ],
   "source": [
    "# Step 1: Get top 2 postal codes\n",
    "top_postal_codes = data['PostalCode'].value_counts().index[:2]\n",
    "zip1 = top_postal_codes[0]\n",
    "zip2 = top_postal_codes[1]\n",
    "\n",
    "# Step 2: Subset data\n",
    "group_zip1 = data[data['PostalCode'] == zip1]\n",
    "group_zip2 = data[data['PostalCode'] == zip2]\n",
    "\n",
    "# Step 3: Build contingency table for claim frequency\n",
    "contingency_zip = [\n",
    "    [\n",
    "        group_zip1['HasClaim'].sum(),\n",
    "        len(group_zip1) - group_zip1['HasClaim'].sum()\n",
    "    ],\n",
    "    [\n",
    "        group_zip2['HasClaim'].sum(),\n",
    "        len(group_zip2) - group_zip2['HasClaim'].sum()\n",
    "    ]\n",
    "]\n",
    "\n",
    "# Step 4: Perform chi-squared test\n",
    "chi2_zip, p_zip, dof_zip, expected_zip = chi2_contingency(contingency_zip)\n",
    "\n",
    "print(f\"Chi-squared: {chi2_zip:.2f}\")\n",
    "print(f\"p-value: {p_zip:.4f}\")"
   ]
  },
  {
   "cell_type": "code",
   "execution_count": 9,
   "id": "cd7ea673",
   "metadata": {},
   "outputs": [
    {
     "name": "stdout",
     "output_type": "stream",
     "text": [
      "T-statistic: 0.39\n",
      "p-value: 0.7002\n"
     ]
    }
   ],
   "source": [
    "# Step 1: Filter to policies with claims\n",
    "claims_data_zip = data[data['TotalClaims'] > 0]\n",
    "\n",
    "# Step 2: Subset data by top 2 postal codes\n",
    "claims_zip1 = claims_data_zip[claims_data_zip['PostalCode'] == zip1]['TotalClaims']\n",
    "claims_zip2 = claims_data_zip[claims_data_zip['PostalCode'] == zip2]['TotalClaims']\n",
    "\n",
    "# Step 3: Perform Welch's t-test (assumes unequal variance)\n",
    "t_stat_zip, p_val_zip = ttest_ind(claims_zip1, claims_zip2, equal_var=False)\n",
    "\n",
    "print(f\"T-statistic: {t_stat_zip:.2f}\")\n",
    "print(f\"p-value: {p_val_zip:.4f}\")"
   ]
  },
  {
   "cell_type": "code",
   "execution_count": 10,
   "id": "23b2ceb2",
   "metadata": {},
   "outputs": [
    {
     "name": "stdout",
     "output_type": "stream",
     "text": [
      "T-statistic: 1.16\n",
      "p-value: 0.2445\n"
     ]
    }
   ],
   "source": [
    "# Step 1: Create margin column\n",
    "data['Margin'] = data['TotalPremium'] - data['TotalClaims']\n",
    "\n",
    "# Step 2: Subset margin by top 2 zip codes\n",
    "margin_zip1 = data[data['PostalCode'] == zip1]['Margin']\n",
    "margin_zip2 = data[data['PostalCode'] == zip2]['Margin']\n",
    "\n",
    "# Step 3: Perform Welch's t-test\n",
    "t_stat_margin, p_val_margin = ttest_ind(margin_zip1, margin_zip2, equal_var=False)\n",
    "\n",
    "print(f\"T-statistic: {t_stat_margin:.2f}\")\n",
    "print(f\"p-value: {p_val_margin:.4f}\")"
   ]
  },
  {
   "cell_type": "code",
   "execution_count": 11,
   "id": "393c4014",
   "metadata": {},
   "outputs": [
    {
     "name": "stdout",
     "output_type": "stream",
     "text": [
      "Chi-squared: 0.00\n",
      "p-value: 0.9515\n"
     ]
    }
   ],
   "source": [
    "# Step 1: Filter out rows with missing gender\n",
    "gender_data = data[data['Gender'].isin(['Male', 'Female'])]\n",
    "\n",
    "# Step 2: Build contingency table\n",
    "contingency_gender = pd.crosstab(gender_data['Gender'], gender_data['HasClaim'])\n",
    "\n",
    "# Step 3: Perform chi-squared test\n",
    "chi2_gender, p_gender, _, _ = chi2_contingency(contingency_gender)\n",
    "\n",
    "print(f\"Chi-squared: {chi2_gender:.2f}\")\n",
    "print(f\"p-value: {p_gender:.4f}\")"
   ]
  },
  {
   "cell_type": "code",
   "execution_count": 12,
   "id": "41b325bb",
   "metadata": {},
   "outputs": [
    {
     "name": "stdout",
     "output_type": "stream",
     "text": [
      "T-statistic: -0.58\n",
      "p-value: 0.5680\n"
     ]
    }
   ],
   "source": [
    "# Step 1: Filter policies with claims and valid gender\n",
    "claims_gender = data[(data['TotalClaims'] > 0) & (data['Gender'].isin(['Male', 'Female']))]\n",
    "\n",
    "# Step 2: Separate claim amounts by gender\n",
    "claims_male = claims_gender[claims_gender['Gender'] == 'Male']['TotalClaims']\n",
    "claims_female = claims_gender[claims_gender['Gender'] == 'Female']['TotalClaims']\n",
    "\n",
    "# Step 3: Perform Welch's t-test (unequal variance)\n",
    "t_stat_gender, p_val_gender = ttest_ind(claims_male, claims_female, equal_var=False)\n",
    "\n",
    "print(f\"T-statistic: {t_stat_gender:.2f}\")\n",
    "print(f\"p-value: {p_val_gender:.4f}\")"
   ]
  }
 ],
 "metadata": {
  "kernelspec": {
   "display_name": "Python 3",
   "language": "python",
   "name": "python3"
  },
  "language_info": {
   "codemirror_mode": {
    "name": "ipython",
    "version": 3
   },
   "file_extension": ".py",
   "mimetype": "text/x-python",
   "name": "python",
   "nbconvert_exporter": "python",
   "pygments_lexer": "ipython3",
   "version": "3.12.4"
  }
 },
 "nbformat": 4,
 "nbformat_minor": 5
}
